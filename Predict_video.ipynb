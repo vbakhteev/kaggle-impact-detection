{
 "cells": [
  {
   "cell_type": "code",
   "execution_count": 1,
   "metadata": {},
   "outputs": [],
   "source": [
    "import gc\n",
    "import pickle\n",
    "import itertools\n",
    "from pathlib import Path\n",
    "from multiprocessing import Pool\n",
    "\n",
    "import cv2\n",
    "import jpeg4py\n",
    "import torch\n",
    "import numpy as np\n",
    "import pandas as pd\n",
    "import albumentations as albu\n",
    "from albumentations.pytorch import ToTensorV2\n",
    "import matplotlib.pyplot as plt\n",
    "from tqdm.notebook import tqdm\n",
    "from effdet import DetBenchPredict\n",
    "from ensemble_boxes import (nms, soft_nms, non_maximum_weighted,\n",
    "                            weighted_boxes_fusion, weighted_boxes_fusion_3d)\n",
    "\n",
    "from src.model.detector import get_net\n",
    "from src.data.clip_dataset import ClipDataset\n",
    "from src.data.loaders import get_valid_dataloaders, get_dataloaders, get_image_dataloaders\n",
    "from src.data.utils import read_video, write_video\n",
    "from src.metric import precision_calc, comp_metric, iou\n",
    "from src.postprocessing import filter_by_frame, threshold_preds, postprocessing_video\n",
    "from src.visualization import draw_hits_video\n",
    "from config import data as data_cfg, train as train_cfg, model as model_cfg\n",
    "from train import Fitter"
   ]
  },
  {
   "cell_type": "code",
   "execution_count": null,
   "metadata": {},
   "outputs": [],
   "source": []
  },
  {
   "cell_type": "code",
   "execution_count": 1,
   "metadata": {},
   "outputs": [],
   "source": [
    "# it = get_valid_dataloaders(data_cfg, train_cfg)\n",
    "# mid_frame = np.where(np.array(data_cfg.frames_neighbors) == 0)[0][0]\n",
    "# device = torch.device('cuda:1')\n",
    "# net = get_net(model_cfg, num_classes=2, mid_frame=mid_frame).to(device)\n",
    "# fitter = Fitter(model=net, device=device)\n",
    "\n",
    "# fitter.model.eval()\n",
    "# inference_model = DetBenchPredict(fitter.model.model).to(device)"
   ]
  },
  {
   "cell_type": "code",
   "execution_count": 3,
   "metadata": {},
   "outputs": [],
   "source": [
    "# gt_all, preds_all, scores_all = [], [], []\n",
    "\n",
    "# for loader in tqdm(it, total=24):\n",
    "#     gt, video_preds, video_scores = fitter.predict_single_video(inference_model, loader)\n",
    "#     gt_all += [gt]\n",
    "#     preds_all += [video_preds]\n",
    "#     scores_all += [video_scores]\n",
    "\n",
    "# data = {\n",
    "#     'gt_all': gt_all,\n",
    "#     'preds_all': preds_all,\n",
    "#     'scores_all': scores_all\n",
    "# }\n",
    "# with open('data.pickle', 'wb') as f:\n",
    "#     pickle.dump(data, f)"
   ]
  },
  {
   "cell_type": "code",
   "execution_count": 4,
   "metadata": {},
   "outputs": [],
   "source": [
    "# import pickle\n",
    "# with open('data.pickle', 'rb') as f:\n",
    "#     data = pickle.load(f)\n",
    "    \n",
    "# gt_all = data['gt_all']\n",
    "# preds_all = data['preds_all']\n",
    "# scores_all = data['scores_all']"
   ]
  },
  {
   "cell_type": "code",
   "execution_count": 31,
   "metadata": {},
   "outputs": [],
   "source": [
    "def get_scores(params):\n",
    "    global_thr, nms_iou_thr, same_helmet_iou_thr, look_future_n_frames, track_max_len = params\n",
    "    preds = [\n",
    "    postprocessing_video(\n",
    "        preds, scores, \n",
    "        global_thr=global_thr,\n",
    "        nms_iou_thr=nms_iou_thr,\n",
    "        same_helmet_iou_thr=same_helmet_iou_thr,\n",
    "        look_future_n_frames=look_future_n_frames,\n",
    "        track_max_len=track_max_len,\n",
    "    )[0] for preds, scores in zip(preds_all, scores_all)]\n",
    "\n",
    "    precision, recall, f1, _ = comp_metric(preds, gt_all)\n",
    "    \n",
    "    return precision, recall, f1, params\n",
    "\n",
    "\n",
    "\n",
    "it_params = itertools.product(\n",
    "    np.arange(0.2, 0.3, 0.02),\n",
    "    [0.3, 0.35],\n",
    "    [0.3, 0.35],\n",
    "    [8, 14, 20],\n",
    "    range(8, 15, 2),\n",
    ")\n",
    "\n",
    "with Pool(16) as p:\n",
    "    result = p.map(get_scores, it_params)\n",
    "result = sorted(result, key=lambda x: -x[2])"
   ]
  },
  {
   "cell_type": "code",
   "execution_count": 37,
   "metadata": {},
   "outputs": [],
   "source": [
    "boxes_frame = np.array([[0.82734375, 0.82638889, 0.9421875, 0.87638889]])\n",
    "scores_frame = np.array([0.05685425])\n",
    "\n",
    "boxes_nms, scores_nms, _ = nms(\n",
    "    [boxes_frame],\n",
    "    [scores_frame],\n",
    "    [np.ones_like(scores_frame)],\n",
    "    iou_thr=0.3,\n",
    ")"
   ]
  },
  {
   "cell_type": "code",
   "execution_count": null,
   "metadata": {},
   "outputs": [],
   "source": [
    "# gt"
   ]
  },
  {
   "cell_type": "code",
   "execution_count": null,
   "metadata": {},
   "outputs": [],
   "source": [
    "# preds"
   ]
  },
  {
   "cell_type": "code",
   "execution_count": null,
   "metadata": {},
   "outputs": [],
   "source": [
    "# scores"
   ]
  },
  {
   "cell_type": "code",
   "execution_count": null,
   "metadata": {},
   "outputs": [],
   "source": []
  },
  {
   "cell_type": "code",
   "execution_count": null,
   "metadata": {},
   "outputs": [],
   "source": [
    "video = draw_hits_video(loader.dataset.video_path, preds, scores, out_path='out.mp4')"
   ]
  },
  {
   "cell_type": "code",
   "execution_count": null,
   "metadata": {},
   "outputs": [],
   "source": []
  },
  {
   "cell_type": "code",
   "execution_count": null,
   "metadata": {},
   "outputs": [],
   "source": []
  },
  {
   "cell_type": "code",
   "execution_count": null,
   "metadata": {},
   "outputs": [],
   "source": []
  },
  {
   "cell_type": "code",
   "execution_count": null,
   "metadata": {},
   "outputs": [],
   "source": []
  },
  {
   "cell_type": "code",
   "execution_count": null,
   "metadata": {},
   "outputs": [],
   "source": []
  },
  {
   "cell_type": "code",
   "execution_count": null,
   "metadata": {},
   "outputs": [],
   "source": [
    "plt.figure(figsize=(20, 20))\n",
    "plt.imshow(video[0])"
   ]
  },
  {
   "cell_type": "code",
   "execution_count": null,
   "metadata": {},
   "outputs": [],
   "source": []
  },
  {
   "cell_type": "code",
   "execution_count": null,
   "metadata": {},
   "outputs": [],
   "source": []
  },
  {
   "cell_type": "code",
   "execution_count": null,
   "metadata": {},
   "outputs": [],
   "source": []
  },
  {
   "cell_type": "code",
   "execution_count": null,
   "metadata": {},
   "outputs": [],
   "source": []
  }
 ],
 "metadata": {
  "kernelspec": {
   "display_name": "Python 3",
   "language": "python",
   "name": "python3"
  },
  "language_info": {
   "codemirror_mode": {
    "name": "ipython",
    "version": 3
   },
   "file_extension": ".py",
   "mimetype": "text/x-python",
   "name": "python",
   "nbconvert_exporter": "python",
   "pygments_lexer": "ipython3",
   "version": "3.7.6"
  }
 },
 "nbformat": 4,
 "nbformat_minor": 4
}
